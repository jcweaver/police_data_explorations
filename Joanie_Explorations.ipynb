{
 "cells": [
  {
   "cell_type": "markdown",
   "metadata": {},
   "source": [
    "## Imports and Loading Data"
   ]
  },
  {
   "cell_type": "code",
   "execution_count": 1,
   "metadata": {},
   "outputs": [],
   "source": [
    "import pandas as pd\n",
    "import numpy as np\n",
    "import matplotlib.pyplot as plt\n",
    "import seaborn as sns\n",
    "import re"
   ]
  },
  {
   "cell_type": "code",
   "execution_count": 2,
   "metadata": {},
   "outputs": [
    {
     "name": "stderr",
     "output_type": "stream",
     "text": [
      "/Users/joanieweaver/anaconda3/lib/python3.8/site-packages/IPython/core/interactiveshell.py:3071: DtypeWarning: Columns (6) have mixed types.Specify dtype option on import or set low_memory=False.\n",
      "  has_raised = await self.run_ast_nodes(code_ast.body, cell_name,\n",
      "/Users/joanieweaver/anaconda3/lib/python3.8/site-packages/IPython/core/interactiveshell.py:3071: DtypeWarning: Columns (6,10,22,27) have mixed types.Specify dtype option on import or set low_memory=False.\n",
      "  has_raised = await self.run_ast_nodes(code_ast.body, cell_name,\n"
     ]
    }
   ],
   "source": [
    "df_sf_police = pd.read_csv(\"../data/police_data_sf.csv\")\n",
    "df_sj_police = pd.read_csv(\"../data/police_data_san_jose.csv\")\n",
    "df_oak_police = pd.read_csv(\"../data/police_data_oakland.csv\")"
   ]
  },
  {
   "cell_type": "code",
   "execution_count": 3,
   "metadata": {},
   "outputs": [],
   "source": [
    "data = {'San Francisco':df_sf_police,'San Jose':df_sj_police,'Oakland':df_oak_police}"
   ]
  },
  {
   "cell_type": "code",
   "execution_count": 4,
   "metadata": {},
   "outputs": [
    {
     "name": "stdout",
     "output_type": "stream",
     "text": [
      "San Francisco Index(['raw_row_number', 'date', 'time', 'location', 'lat', 'lng', 'district',\n",
      "       'subject_age', 'subject_race', 'subject_sex', 'type', 'arrest_made',\n",
      "       'citation_issued', 'warning_issued', 'outcome', 'contraband_found',\n",
      "       'search_conducted', 'search_vehicle', 'search_basis', 'reason_for_stop',\n",
      "       'raw_search_vehicle_description', 'raw_result_of_contact_description'],\n",
      "      dtype='object')\n",
      "San Jose Index(['raw_row_number', 'date', 'time', 'location', 'lat', 'lng',\n",
      "       'subject_race', 'type', 'arrest_made', 'citation_issued', 'outcome',\n",
      "       'contraband_found', 'search_conducted', 'reason_for_stop',\n",
      "       'use_of_force_description', 'use_of_force_reason', 'raw_search',\n",
      "       'raw_call_desc', 'raw_race', 'raw_event_desc'],\n",
      "      dtype='object')\n",
      "Oakland Index(['raw_row_number', 'date', 'time', 'location', 'lat', 'lng', 'beat',\n",
      "       'subject_age', 'subject_race', 'subject_sex', 'officer_assignment',\n",
      "       'type', 'arrest_made', 'citation_issued', 'warning_issued', 'outcome',\n",
      "       'contraband_found', 'contraband_drugs', 'contraband_weapons',\n",
      "       'search_conducted', 'search_basis', 'reason_for_stop',\n",
      "       'use_of_force_description', 'raw_subject_sdrace',\n",
      "       'raw_subject_resultofencounter', 'raw_subject_searchconducted',\n",
      "       'raw_subject_typeofsearch', 'raw_subject_resultofsearch'],\n",
      "      dtype='object')\n"
     ]
    }
   ],
   "source": [
    "for name,df in data.items():\n",
    "    print (name,df.columns)"
   ]
  },
  {
   "cell_type": "markdown",
   "metadata": {},
   "source": [
    "# Data Checks"
   ]
  },
  {
   "cell_type": "code",
   "execution_count": 5,
   "metadata": {},
   "outputs": [
    {
     "name": "stdout",
     "output_type": "stream",
     "text": [
      "San Francisco \n",
      "There are 0 missing race fields in the report file\n",
      "\n",
      "San Francisco \n",
      "There are 0 missing gender fields in the report file\n",
      "\n",
      "San Jose \n",
      "There are 5485 missing race fields in the report file\n",
      "\n",
      "San Jose does not contain subject_sex\n",
      "\n",
      "Oakland \n",
      "There are 0 missing race fields in the report file\n",
      "\n",
      "Oakland \n",
      "There are 90 missing gender fields in the report file\n",
      "\n"
     ]
    }
   ],
   "source": [
    "for name,df in data.items():\n",
    "    print(name,\"\\nThere are {missing_race} missing race fields in the report file\\n\".format(missing_race=df.subject_race.isna().sum()))\n",
    "    try:\n",
    "        print(name,\"\\nThere are {missing_gender} missing gender fields in the report file\\n\".format(missing_gender=df.subject_sex.isna().sum()))\n",
    "    except:\n",
    "        print(name,\"does not contain subject_sex\\n\")"
   ]
  },
  {
   "cell_type": "code",
   "execution_count": 6,
   "metadata": {},
   "outputs": [
    {
     "name": "stdout",
     "output_type": "stream",
     "text": [
      "vehicular    905070\n",
      "Name: type, dtype: int64\n",
      "\n",
      "male      639219\n",
      "female    265851\n",
      "Name: subject_sex, dtype: int64\n",
      "\n",
      "25.0     32958\n",
      "30.0     30355\n",
      "26.0     27836\n",
      "27.0     27540\n",
      "28.0     27339\n",
      "         ...  \n",
      "96.0         5\n",
      "97.0         4\n",
      "100.0        4\n",
      "11.0         3\n",
      "98.0         2\n",
      "Name: subject_age, Length: 91, dtype: int64\n"
     ]
    }
   ],
   "source": [
    "#Printing some of the values we might see in these fields\n",
    "print(df_sf_police.type.value_counts())\n",
    "print()\n",
    "print(df_sf_police.subject_sex.value_counts())\n",
    "print()\n",
    "print(df_sf_police.subject_age.value_counts())"
   ]
  },
  {
   "cell_type": "code",
   "execution_count": 7,
   "metadata": {},
   "outputs": [
    {
     "name": "stdout",
     "output_type": "stream",
     "text": [
      "San Francisco \n",
      "There are 0 missing search conducted fields in the report file\n",
      "\n",
      "San Francisco \n",
      "There are 851689 missing contraband found fields in the report file\n",
      "\n",
      "San Francisco \n",
      "There are 15681 missing arrest fields in the report file\n",
      "\n",
      "San Jose \n",
      "There are 3568 missing search conducted fields in the report file\n",
      "\n",
      "San Jose \n",
      "There are 111124 missing contraband found fields in the report file\n",
      "\n",
      "San Jose \n",
      "There are 94745 missing arrest fields in the report file\n",
      "\n",
      "Oakland \n",
      "There are 0 missing search conducted fields in the report file\n",
      "\n",
      "Oakland \n",
      "There are 92250 missing contraband found fields in the report file\n",
      "\n",
      "Oakland \n",
      "There are 34107 missing arrest fields in the report file\n",
      "\n"
     ]
    }
   ],
   "source": [
    "for name,df in data.items():\n",
    "    print(name,\"\\nThere are {search} missing search conducted fields in the report file\\n\".format(search=df.search_conducted.isna().sum()))\n",
    "    print(name,\"\\nThere are {contraband} missing contraband found fields in the report file\\n\".format(contraband=df.contraband_found.isna().sum()))\n",
    "    print(name,\"\\nThere are {arrest} missing arrest fields in the report file\\n\".format(arrest=df.outcome.isna().sum()))\n"
   ]
  },
  {
   "cell_type": "code",
   "execution_count": 8,
   "metadata": {},
   "outputs": [
    {
     "name": "stdout",
     "output_type": "stream",
     "text": [
      "False    851689\n",
      "True      53381\n",
      "Name: search_conducted, dtype: int64\n",
      "\n",
      "False    45405\n",
      "True      7976\n",
      "Name: contraband_found, dtype: int64\n",
      "\n",
      "False    893145\n",
      "True      11925\n",
      "Name: arrest_made, dtype: int64\n"
     ]
    }
   ],
   "source": [
    "print(df_sf_police.search_conducted.value_counts())\n",
    "print()\n",
    "print(df_sf_police.contraband_found.value_counts())\n",
    "print()\n",
    "print(df_sf_police.arrest_made.value_counts())"
   ]
  },
  {
   "cell_type": "markdown",
   "metadata": {},
   "source": [
    "## Search/Stop & Contraband/Search Explorations"
   ]
  },
  {
   "cell_type": "markdown",
   "metadata": {},
   "source": [
    "Some explorations below using charts/tables that show the % of stops that result in searches and % of searches that result in contraband being found."
   ]
  },
  {
   "cell_type": "code",
   "execution_count": 9,
   "metadata": {},
   "outputs": [
    {
     "data": {
      "text/html": [
       "<style  type=\"text/css\" >\n",
       "    #T_fe6a8_ caption {\n",
       "          color: black;\n",
       "          font-size: 16px;\n",
       "          width: 500px;\n",
       "    }</style><table id=\"T_fe6a8_\" ><caption>Oakland, CA</caption><thead>    <tr>        <th class=\"index_name level0\" >search_conducted</th>        <th class=\"col_heading level0 col0\" >False</th>        <th class=\"col_heading level0 col1\" >True</th>        <th class=\"col_heading level0 col2\" >searches_over_total_stops</th>    </tr>    <tr>        <th class=\"index_name level0\" >subject_race</th>        <th class=\"blank\" ></th>        <th class=\"blank\" ></th>        <th class=\"blank\" ></th>    </tr></thead><tbody>\n",
       "                <tr>\n",
       "                        <th id=\"T_fe6a8_level0_row0\" class=\"row_heading level0 row0\" >asian/pacific islander</th>\n",
       "                        <td id=\"T_fe6a8_row0_col0\" class=\"data row0 col0\" >6795</td>\n",
       "                        <td id=\"T_fe6a8_row0_col1\" class=\"data row0 col1\" >1304</td>\n",
       "                        <td id=\"T_fe6a8_row0_col2\" class=\"data row0 col2\" >0.161008</td>\n",
       "            </tr>\n",
       "            <tr>\n",
       "                        <th id=\"T_fe6a8_level0_row1\" class=\"row_heading level0 row1\" >black</th>\n",
       "                        <td id=\"T_fe6a8_row1_col0\" class=\"data row1 col0\" >48900</td>\n",
       "                        <td id=\"T_fe6a8_row1_col1\" class=\"data row1 col1\" >30025</td>\n",
       "                        <td id=\"T_fe6a8_row1_col2\" class=\"data row1 col2\" >0.380424</td>\n",
       "            </tr>\n",
       "            <tr>\n",
       "                        <th id=\"T_fe6a8_level0_row2\" class=\"row_heading level0 row2\" >hispanic</th>\n",
       "                        <td id=\"T_fe6a8_row2_col0\" class=\"data row2 col0\" >19535</td>\n",
       "                        <td id=\"T_fe6a8_row2_col1\" class=\"data row2 col1\" >6722</td>\n",
       "                        <td id=\"T_fe6a8_row2_col2\" class=\"data row2 col2\" >0.256008</td>\n",
       "            </tr>\n",
       "            <tr>\n",
       "                        <th id=\"T_fe6a8_level0_row3\" class=\"row_heading level0 row3\" >other</th>\n",
       "                        <td id=\"T_fe6a8_row3_col0\" class=\"data row3 col0\" >3792</td>\n",
       "                        <td id=\"T_fe6a8_row3_col1\" class=\"data row3 col1\" >706</td>\n",
       "                        <td id=\"T_fe6a8_row3_col2\" class=\"data row3 col2\" >0.156959</td>\n",
       "            </tr>\n",
       "            <tr>\n",
       "                        <th id=\"T_fe6a8_level0_row4\" class=\"row_heading level0 row4\" >white</th>\n",
       "                        <td id=\"T_fe6a8_row4_col0\" class=\"data row4 col0\" >13228</td>\n",
       "                        <td id=\"T_fe6a8_row4_col1\" class=\"data row4 col1\" >2400</td>\n",
       "                        <td id=\"T_fe6a8_row4_col2\" class=\"data row4 col2\" >0.153571</td>\n",
       "            </tr>\n",
       "    </tbody></table>"
      ],
      "text/plain": [
       "<pandas.io.formats.style.Styler at 0x7fc4b32b3160>"
      ]
     },
     "execution_count": 9,
     "metadata": {},
     "output_type": "execute_result"
    }
   ],
   "source": [
    "\n",
    "df_pivot=df_oak_police.pivot_table(values='raw_row_number',index='subject_race', columns=['search_conducted'], aggfunc='count').assign(searches_over_total_stops=lambda x: x[1]/x.sum(axis=1))\n",
    "df_pivot.style.set_caption(\"Oakland, CA\").set_table_styles([{\n",
    "    'selector': 'caption',\n",
    "    'props': [\n",
    "        ('color', 'black'),\n",
    "        ('font-size', '16px'),\n",
    "        ('width', '500px')\n",
    "    ],\n",
    "}])"
   ]
  },
  {
   "cell_type": "code",
   "execution_count": 10,
   "metadata": {},
   "outputs": [
    {
     "data": {
      "text/html": [
       "<style  type=\"text/css\" >\n",
       "    #T_2c5cb_ caption {\n",
       "          color: black;\n",
       "          font-size: 16px;\n",
       "          width: 500px;\n",
       "    }</style><table id=\"T_2c5cb_\" ><caption>San Francisco, CA</caption><thead>    <tr>        <th class=\"index_name level0\" >search_conducted</th>        <th class=\"col_heading level0 col0\" >False</th>        <th class=\"col_heading level0 col1\" >True</th>        <th class=\"col_heading level0 col2\" >searches_over_total_stops</th>    </tr>    <tr>        <th class=\"index_name level0\" >subject_race</th>        <th class=\"blank\" ></th>        <th class=\"blank\" ></th>        <th class=\"blank\" ></th>    </tr></thead><tbody>\n",
       "                <tr>\n",
       "                        <th id=\"T_2c5cb_level0_row0\" class=\"row_heading level0 row0\" >asian/pacific islander</th>\n",
       "                        <td id=\"T_2c5cb_row0_col0\" class=\"data row0 col0\" >154823</td>\n",
       "                        <td id=\"T_2c5cb_row0_col1\" class=\"data row0 col1\" >2861</td>\n",
       "                        <td id=\"T_2c5cb_row0_col2\" class=\"data row0 col2\" >0.018144</td>\n",
       "            </tr>\n",
       "            <tr>\n",
       "                        <th id=\"T_2c5cb_level0_row1\" class=\"row_heading level0 row1\" >black</th>\n",
       "                        <td id=\"T_2c5cb_row1_col0\" class=\"data row1 col0\" >128574</td>\n",
       "                        <td id=\"T_2c5cb_row1_col1\" class=\"data row1 col1\" >23622</td>\n",
       "                        <td id=\"T_2c5cb_row1_col2\" class=\"data row1 col2\" >0.155208</td>\n",
       "            </tr>\n",
       "            <tr>\n",
       "                        <th id=\"T_2c5cb_level0_row2\" class=\"row_heading level0 row2\" >hispanic</th>\n",
       "                        <td id=\"T_2c5cb_row2_col0\" class=\"data row2 col0\" >104569</td>\n",
       "                        <td id=\"T_2c5cb_row2_col1\" class=\"data row2 col1\" >11445</td>\n",
       "                        <td id=\"T_2c5cb_row2_col2\" class=\"data row2 col2\" >0.098652</td>\n",
       "            </tr>\n",
       "            <tr>\n",
       "                        <th id=\"T_2c5cb_level0_row3\" class=\"row_heading level0 row3\" >other</th>\n",
       "                        <td id=\"T_2c5cb_row3_col0\" class=\"data row3 col0\" >103112</td>\n",
       "                        <td id=\"T_2c5cb_row3_col1\" class=\"data row3 col1\" >3746</td>\n",
       "                        <td id=\"T_2c5cb_row3_col2\" class=\"data row3 col2\" >0.035056</td>\n",
       "            </tr>\n",
       "            <tr>\n",
       "                        <th id=\"T_2c5cb_level0_row4\" class=\"row_heading level0 row4\" >white</th>\n",
       "                        <td id=\"T_2c5cb_row4_col0\" class=\"data row4 col0\" >360611</td>\n",
       "                        <td id=\"T_2c5cb_row4_col1\" class=\"data row4 col1\" >11707</td>\n",
       "                        <td id=\"T_2c5cb_row4_col2\" class=\"data row4 col2\" >0.031444</td>\n",
       "            </tr>\n",
       "    </tbody></table>"
      ],
      "text/plain": [
       "<pandas.io.formats.style.Styler at 0x7fc4b32b3790>"
      ]
     },
     "execution_count": 10,
     "metadata": {},
     "output_type": "execute_result"
    }
   ],
   "source": [
    "df_pivot=df_sf_police.pivot_table(values='raw_row_number',index='subject_race', columns=['search_conducted'], aggfunc='count').assign(searches_over_total_stops=lambda x: x[1]/x.sum(axis=1))\n",
    "df_pivot.style.set_caption(\"San Francisco, CA\").set_table_styles([{\n",
    "    'selector': 'caption',\n",
    "    'props': [\n",
    "        ('color', 'black'),\n",
    "        ('font-size', '16px'),\n",
    "        ('width', '500px')\n",
    "    ],\n",
    "}])"
   ]
  },
  {
   "cell_type": "code",
   "execution_count": 11,
   "metadata": {},
   "outputs": [
    {
     "data": {
      "text/html": [
       "<style  type=\"text/css\" >\n",
       "    #T_f67cf_ caption {\n",
       "          color: black;\n",
       "          font-size: 16px;\n",
       "          width: 450px;\n",
       "    }</style><table id=\"T_f67cf_\" ><caption>San Jose, CA</caption><thead>    <tr>        <th class=\"index_name level0\" >contraband_found</th>        <th class=\"col_heading level0 col0\" >False</th>        <th class=\"col_heading level0 col1\" >True</th>        <th class=\"col_heading level0 col2\" >contraband_found_over_total_searches</th>    </tr>    <tr>        <th class=\"index_name level0\" >subject_race</th>        <th class=\"blank\" ></th>        <th class=\"blank\" ></th>        <th class=\"blank\" ></th>    </tr></thead><tbody>\n",
       "                <tr>\n",
       "                        <th id=\"T_f67cf_level0_row0\" class=\"row_heading level0 row0\" >asian/pacific islander</th>\n",
       "                        <td id=\"T_f67cf_row0_col0\" class=\"data row0 col0\" >1767</td>\n",
       "                        <td id=\"T_f67cf_row0_col1\" class=\"data row0 col1\" >388</td>\n",
       "                        <td id=\"T_f67cf_row0_col2\" class=\"data row0 col2\" >0.180046</td>\n",
       "            </tr>\n",
       "            <tr>\n",
       "                        <th id=\"T_f67cf_level0_row1\" class=\"row_heading level0 row1\" >black</th>\n",
       "                        <td id=\"T_f67cf_row1_col0\" class=\"data row1 col0\" >3577</td>\n",
       "                        <td id=\"T_f67cf_row1_col1\" class=\"data row1 col1\" >821</td>\n",
       "                        <td id=\"T_f67cf_row1_col2\" class=\"data row1 col2\" >0.186676</td>\n",
       "            </tr>\n",
       "            <tr>\n",
       "                        <th id=\"T_f67cf_level0_row2\" class=\"row_heading level0 row2\" >hispanic</th>\n",
       "                        <td id=\"T_f67cf_row2_col0\" class=\"data row2 col0\" >22891</td>\n",
       "                        <td id=\"T_f67cf_row2_col1\" class=\"data row2 col1\" >4266</td>\n",
       "                        <td id=\"T_f67cf_row2_col2\" class=\"data row2 col2\" >0.157087</td>\n",
       "            </tr>\n",
       "            <tr>\n",
       "                        <th id=\"T_f67cf_level0_row3\" class=\"row_heading level0 row3\" >other</th>\n",
       "                        <td id=\"T_f67cf_row3_col0\" class=\"data row3 col0\" >1216</td>\n",
       "                        <td id=\"T_f67cf_row3_col1\" class=\"data row3 col1\" >358</td>\n",
       "                        <td id=\"T_f67cf_row3_col2\" class=\"data row3 col2\" >0.227446</td>\n",
       "            </tr>\n",
       "            <tr>\n",
       "                        <th id=\"T_f67cf_level0_row4\" class=\"row_heading level0 row4\" >white</th>\n",
       "                        <td id=\"T_f67cf_row4_col0\" class=\"data row4 col0\" >5139</td>\n",
       "                        <td id=\"T_f67cf_row4_col1\" class=\"data row4 col1\" >1272</td>\n",
       "                        <td id=\"T_f67cf_row4_col2\" class=\"data row4 col2\" >0.198409</td>\n",
       "            </tr>\n",
       "    </tbody></table>"
      ],
      "text/plain": [
       "<pandas.io.formats.style.Styler at 0x7fc4a5c4ea30>"
      ]
     },
     "execution_count": 11,
     "metadata": {},
     "output_type": "execute_result"
    }
   ],
   "source": [
    "df_pivot=df_sj_police.pivot_table(values='raw_row_number',index='subject_race', columns=['contraband_found'], aggfunc='count').assign(contraband_found_over_total_searches=lambda x: x[1]/x.sum(axis=1))\n",
    "df_pivot.style.set_caption(\"San Jose, CA\").set_table_styles([{\n",
    "    'selector': 'caption',\n",
    "    'props': [\n",
    "        ('color', 'black'),\n",
    "        ('font-size', '16px'),\n",
    "        ('width', '450px')\n",
    "    ],\n",
    "}])"
   ]
  },
  {
   "cell_type": "code",
   "execution_count": 12,
   "metadata": {},
   "outputs": [
    {
     "data": {
      "text/html": [
       "<style  type=\"text/css\" >\n",
       "    #T_71fd0_ caption {\n",
       "          color: black;\n",
       "          font-size: 16px;\n",
       "          width: 450px;\n",
       "    }</style><table id=\"T_71fd0_\" ><caption>San Francisco, CA</caption><thead>    <tr>        <th class=\"index_name level0\" >contraband_found</th>        <th class=\"col_heading level0 col0\" >False</th>        <th class=\"col_heading level0 col1\" >True</th>        <th class=\"col_heading level0 col2\" >contraband_found_over_total_searches</th>    </tr>    <tr>        <th class=\"index_name level0\" >subject_race</th>        <th class=\"blank\" ></th>        <th class=\"blank\" ></th>        <th class=\"blank\" ></th>    </tr></thead><tbody>\n",
       "                <tr>\n",
       "                        <th id=\"T_71fd0_level0_row0\" class=\"row_heading level0 row0\" >asian/pacific islander</th>\n",
       "                        <td id=\"T_71fd0_row0_col0\" class=\"data row0 col0\" >1828</td>\n",
       "                        <td id=\"T_71fd0_row0_col1\" class=\"data row0 col1\" >1033</td>\n",
       "                        <td id=\"T_71fd0_row0_col2\" class=\"data row0 col2\" >0.361063</td>\n",
       "            </tr>\n",
       "            <tr>\n",
       "                        <th id=\"T_71fd0_level0_row1\" class=\"row_heading level0 row1\" >black</th>\n",
       "                        <td id=\"T_71fd0_row1_col0\" class=\"data row1 col0\" >21439</td>\n",
       "                        <td id=\"T_71fd0_row1_col1\" class=\"data row1 col1\" >2183</td>\n",
       "                        <td id=\"T_71fd0_row1_col2\" class=\"data row1 col2\" >0.092414</td>\n",
       "            </tr>\n",
       "            <tr>\n",
       "                        <th id=\"T_71fd0_level0_row2\" class=\"row_heading level0 row2\" >hispanic</th>\n",
       "                        <td id=\"T_71fd0_row2_col0\" class=\"data row2 col0\" >10280</td>\n",
       "                        <td id=\"T_71fd0_row2_col1\" class=\"data row2 col1\" >1165</td>\n",
       "                        <td id=\"T_71fd0_row2_col2\" class=\"data row2 col2\" >0.101791</td>\n",
       "            </tr>\n",
       "            <tr>\n",
       "                        <th id=\"T_71fd0_level0_row3\" class=\"row_heading level0 row3\" >other</th>\n",
       "                        <td id=\"T_71fd0_row3_col0\" class=\"data row3 col0\" >2985</td>\n",
       "                        <td id=\"T_71fd0_row3_col1\" class=\"data row3 col1\" >761</td>\n",
       "                        <td id=\"T_71fd0_row3_col2\" class=\"data row3 col2\" >0.203150</td>\n",
       "            </tr>\n",
       "            <tr>\n",
       "                        <th id=\"T_71fd0_level0_row4\" class=\"row_heading level0 row4\" >white</th>\n",
       "                        <td id=\"T_71fd0_row4_col0\" class=\"data row4 col0\" >8873</td>\n",
       "                        <td id=\"T_71fd0_row4_col1\" class=\"data row4 col1\" >2834</td>\n",
       "                        <td id=\"T_71fd0_row4_col2\" class=\"data row4 col2\" >0.242077</td>\n",
       "            </tr>\n",
       "    </tbody></table>"
      ],
      "text/plain": [
       "<pandas.io.formats.style.Styler at 0x7fc4a5c745e0>"
      ]
     },
     "execution_count": 12,
     "metadata": {},
     "output_type": "execute_result"
    }
   ],
   "source": [
    "df_pivot=df_sf_police.pivot_table(values='raw_row_number',index='subject_race', columns=['contraband_found'], aggfunc='count').assign(contraband_found_over_total_searches=lambda x: x[1]/x.sum(axis=1))\n",
    "df_pivot.style.set_caption(\"San Francisco, CA\").set_table_styles([{\n",
    "    'selector': 'caption',\n",
    "    'props': [\n",
    "        ('color', 'black'),\n",
    "        ('font-size', '16px'),\n",
    "        ('width', '450px')\n",
    "    ],\n",
    "}])"
   ]
  },
  {
   "cell_type": "code",
   "execution_count": 13,
   "metadata": {},
   "outputs": [
    {
     "data": {
      "text/html": [
       "<style  type=\"text/css\" >\n",
       "    #T_dd34d_ caption {\n",
       "          color: black;\n",
       "          font-size: 16px;\n",
       "          width: 450px;\n",
       "    }</style><table id=\"T_dd34d_\" ><caption>Oakland, CA</caption><thead>    <tr>        <th class=\"index_name level0\" >contraband_found</th>        <th class=\"col_heading level0 col0\" >False</th>        <th class=\"col_heading level0 col1\" >True</th>        <th class=\"col_heading level0 col2\" >contraband_found_over_total_searches</th>    </tr>    <tr>        <th class=\"index_name level0\" >subject_race</th>        <th class=\"blank\" ></th>        <th class=\"blank\" ></th>        <th class=\"blank\" ></th>    </tr></thead><tbody>\n",
       "                <tr>\n",
       "                        <th id=\"T_dd34d_level0_row0\" class=\"row_heading level0 row0\" >asian/pacific islander</th>\n",
       "                        <td id=\"T_dd34d_row0_col0\" class=\"data row0 col0\" >1128</td>\n",
       "                        <td id=\"T_dd34d_row0_col1\" class=\"data row0 col1\" >176</td>\n",
       "                        <td id=\"T_dd34d_row0_col2\" class=\"data row0 col2\" >0.134969</td>\n",
       "            </tr>\n",
       "            <tr>\n",
       "                        <th id=\"T_dd34d_level0_row1\" class=\"row_heading level0 row1\" >black</th>\n",
       "                        <td id=\"T_dd34d_row1_col0\" class=\"data row1 col0\" >25661</td>\n",
       "                        <td id=\"T_dd34d_row1_col1\" class=\"data row1 col1\" >4364</td>\n",
       "                        <td id=\"T_dd34d_row1_col2\" class=\"data row1 col2\" >0.145346</td>\n",
       "            </tr>\n",
       "            <tr>\n",
       "                        <th id=\"T_dd34d_level0_row2\" class=\"row_heading level0 row2\" >hispanic</th>\n",
       "                        <td id=\"T_dd34d_row2_col0\" class=\"data row2 col0\" >5606</td>\n",
       "                        <td id=\"T_dd34d_row2_col1\" class=\"data row2 col1\" >1116</td>\n",
       "                        <td id=\"T_dd34d_row2_col2\" class=\"data row2 col2\" >0.166022</td>\n",
       "            </tr>\n",
       "            <tr>\n",
       "                        <th id=\"T_dd34d_level0_row3\" class=\"row_heading level0 row3\" >other</th>\n",
       "                        <td id=\"T_dd34d_row3_col0\" class=\"data row3 col0\" >621</td>\n",
       "                        <td id=\"T_dd34d_row3_col1\" class=\"data row3 col1\" >85</td>\n",
       "                        <td id=\"T_dd34d_row3_col2\" class=\"data row3 col2\" >0.120397</td>\n",
       "            </tr>\n",
       "            <tr>\n",
       "                        <th id=\"T_dd34d_level0_row4\" class=\"row_heading level0 row4\" >white</th>\n",
       "                        <td id=\"T_dd34d_row4_col0\" class=\"data row4 col0\" >1989</td>\n",
       "                        <td id=\"T_dd34d_row4_col1\" class=\"data row4 col1\" >411</td>\n",
       "                        <td id=\"T_dd34d_row4_col2\" class=\"data row4 col2\" >0.171250</td>\n",
       "            </tr>\n",
       "    </tbody></table>"
      ],
      "text/plain": [
       "<pandas.io.formats.style.Styler at 0x7fc4a5c61250>"
      ]
     },
     "execution_count": 13,
     "metadata": {},
     "output_type": "execute_result"
    }
   ],
   "source": [
    "df_pivot=df_oak_police.pivot_table(values='raw_row_number',index='subject_race', columns=['contraband_found'], aggfunc='count').assign(contraband_found_over_total_searches=lambda x: x[1]/x.sum(axis=1))\n",
    "df_pivot.style.set_caption(\"Oakland, CA\").set_table_styles([{\n",
    "    'selector': 'caption',\n",
    "    'props': [\n",
    "        ('color', 'black'),\n",
    "        ('font-size', '16px'),\n",
    "        ('width', '450px')\n",
    "    ],\n",
    "}])"
   ]
  },
  {
   "cell_type": "markdown",
   "metadata": {},
   "source": [
    "## Combining interesting fields from 3 dataframes into one"
   ]
  },
  {
   "cell_type": "code",
   "execution_count": 14,
   "metadata": {},
   "outputs": [],
   "source": [
    "all_df=df_sf_police[['search_conducted','subject_race','contraband_found','reason_for_stop']].copy()\n",
    "all_df['city']='San Francisco'\n",
    "\n",
    "\n",
    "sj=df_sj_police[['search_conducted','subject_race','reason_for_stop']].copy()\n",
    "sj['city']='San Jose'\n",
    "all_df=all_df.append(sj)\n",
    "\n",
    "oak=df_oak_police[['search_conducted','subject_race','reason_for_stop']].copy()\n",
    "oak['city']='Oakland'\n",
    "all_df=all_df.append(oak)\n",
    "all_df['count']=1\n"
   ]
  },
  {
   "cell_type": "markdown",
   "metadata": {},
   "source": [
    "## Plotting"
   ]
  },
  {
   "cell_type": "code",
   "execution_count": 15,
   "metadata": {},
   "outputs": [],
   "source": [
    "def compute_ratio(col):\n",
    "    ratio= col.sum()/col.size\n",
    "    return (ratio.round(3)*100).astype(float)\n",
    "\n",
    "def format_mean(num):\n",
    "    return np.mean(num)"
   ]
  },
  {
   "cell_type": "code",
   "execution_count": 18,
   "metadata": {},
   "outputs": [],
   "source": [
    "#Updating NAs in the race data to display as category Missing\n",
    "all_df.loc[pd.isna(all_df.subject_race),'subject_race']='Missing'\n",
    "\n",
    "\n",
    "grouped_by_race_city=all_df.groupby([all_df.city,all_df.subject_race])\n"
   ]
  },
  {
   "cell_type": "code",
   "execution_count": 19,
   "metadata": {},
   "outputs": [
    {
     "data": {
      "text/html": [
       "<div>\n",
       "<style scoped>\n",
       "    .dataframe tbody tr th:only-of-type {\n",
       "        vertical-align: middle;\n",
       "    }\n",
       "\n",
       "    .dataframe tbody tr th {\n",
       "        vertical-align: top;\n",
       "    }\n",
       "\n",
       "    .dataframe thead th {\n",
       "        text-align: right;\n",
       "    }\n",
       "</style>\n",
       "<table border=\"1\" class=\"dataframe\">\n",
       "  <thead>\n",
       "    <tr style=\"text-align: right;\">\n",
       "      <th>search_conducted</th>\n",
       "      <th>False</th>\n",
       "      <th>True</th>\n",
       "      <th>searches_over_total_stops</th>\n",
       "    </tr>\n",
       "    <tr>\n",
       "      <th>subject_race</th>\n",
       "      <th></th>\n",
       "      <th></th>\n",
       "      <th></th>\n",
       "    </tr>\n",
       "  </thead>\n",
       "  <tbody>\n",
       "    <tr>\n",
       "      <th>Missing</th>\n",
       "      <td>5462</td>\n",
       "      <td>15</td>\n",
       "      <td>0.002739</td>\n",
       "    </tr>\n",
       "    <tr>\n",
       "      <th>asian/pacific islander</th>\n",
       "      <td>175407</td>\n",
       "      <td>6320</td>\n",
       "      <td>0.034777</td>\n",
       "    </tr>\n",
       "    <tr>\n",
       "      <th>black</th>\n",
       "      <td>186485</td>\n",
       "      <td>58045</td>\n",
       "      <td>0.237374</td>\n",
       "    </tr>\n",
       "    <tr>\n",
       "      <th>hispanic</th>\n",
       "      <td>176358</td>\n",
       "      <td>45324</td>\n",
       "      <td>0.204455</td>\n",
       "    </tr>\n",
       "    <tr>\n",
       "      <th>other</th>\n",
       "      <td>114231</td>\n",
       "      <td>6026</td>\n",
       "      <td>0.050109</td>\n",
       "    </tr>\n",
       "    <tr>\n",
       "      <th>white</th>\n",
       "      <td>393552</td>\n",
       "      <td>20518</td>\n",
       "      <td>0.049552</td>\n",
       "    </tr>\n",
       "  </tbody>\n",
       "</table>\n",
       "</div>"
      ],
      "text/plain": [
       "search_conducted         False   True  searches_over_total_stops\n",
       "subject_race                                                    \n",
       "Missing                   5462     15                   0.002739\n",
       "asian/pacific islander  175407   6320                   0.034777\n",
       "black                   186485  58045                   0.237374\n",
       "hispanic                176358  45324                   0.204455\n",
       "other                   114231   6026                   0.050109\n",
       "white                   393552  20518                   0.049552"
      ]
     },
     "execution_count": 19,
     "metadata": {},
     "output_type": "execute_result"
    }
   ],
   "source": [
    "all_df.pivot_table(values='city',index=['subject_race'], columns=['search_conducted'], aggfunc='count').assign(searches_over_total_stops=lambda x: x[1]/x.sum(axis=1))\n"
   ]
  },
  {
   "cell_type": "code",
   "execution_count": 20,
   "metadata": {},
   "outputs": [
    {
     "ename": "NameError",
     "evalue": "name 'grouped1' is not defined",
     "output_type": "error",
     "traceback": [
      "\u001b[0;31m---------------------------------------------------------------------------\u001b[0m",
      "\u001b[0;31mNameError\u001b[0m                                 Traceback (most recent call last)",
      "\u001b[0;32m<ipython-input-20-271b25c4894b>\u001b[0m in \u001b[0;36m<module>\u001b[0;34m\u001b[0m\n\u001b[0;32m----> 1\u001b[0;31m \u001b[0mg\u001b[0m\u001b[0;34m=\u001b[0m\u001b[0mgrouped1\u001b[0m\u001b[0;34m.\u001b[0m\u001b[0msearch_conducted\u001b[0m\u001b[0;34m.\u001b[0m\u001b[0msum\u001b[0m\u001b[0;34m(\u001b[0m\u001b[0;34m)\u001b[0m\u001b[0;34m/\u001b[0m\u001b[0mgrouped1\u001b[0m\u001b[0;34m.\u001b[0m\u001b[0msearch_conducted\u001b[0m\u001b[0;34m.\u001b[0m\u001b[0msize\u001b[0m\u001b[0;34m(\u001b[0m\u001b[0;34m)\u001b[0m\u001b[0;34m\u001b[0m\u001b[0;34m\u001b[0m\u001b[0m\n\u001b[0m\u001b[1;32m      2\u001b[0m \u001b[0mg\u001b[0m\u001b[0;34m.\u001b[0m\u001b[0mto_frame\u001b[0m\u001b[0;34m(\u001b[0m\u001b[0;34m)\u001b[0m\u001b[0;34m\u001b[0m\u001b[0;34m\u001b[0m\u001b[0m\n",
      "\u001b[0;31mNameError\u001b[0m: name 'grouped1' is not defined"
     ]
    }
   ],
   "source": [
    "g=grouped1.search_conducted.sum()/grouped1.search_conducted.size()\n",
    "g.to_frame()"
   ]
  },
  {
   "cell_type": "markdown",
   "metadata": {},
   "source": [
    "## Reason for Stops"
   ]
  },
  {
   "cell_type": "markdown",
   "metadata": {},
   "source": [
    "Reasons\n",
    "- Muni Code Violation - Municipal Code Violations include regulations of conduct, weapons, noise, building, driving, business licenses, sidewalks, roadways, and any other problem area affecting local cities or counties.\n",
    "- Vehicle Code Violation - same as Traffic Violation\n",
    "- MPC = penal code - It is a body of rules that prevents acts that threaten, harm or otherwise endanger the safety and welfare of the public by imposing punishment on those who breach these laws.\n",
    "- Moving Violation\n",
    "- Consensual - The law requires an officer to have reasonable suspicion in order to stop or detain someone. Not all officers are honest, though. To get around the requirement of reasonable suspicion, a police officer will sometimes claim in the police report that the encounter with the citizen was consensual when in actuality it was a detainment. This is because if the encounter is consensual, the officer does not need to have reasonable suspicion to stop the person. Not in SF.\n",
    "- BOL/APB/Watch Bulletin : dangerous or missing persons\n",
    "- Assistance - only in SF, majority not arrested"
   ]
  },
  {
   "cell_type": "code",
   "execution_count": null,
   "metadata": {},
   "outputs": [],
   "source": [
    "#Reasons for stop in SF\n",
    "test=df_sf_police.dropna(subset=['reason_for_stop'],axis=0)\n",
    "test.reason_for_stop.value_counts()"
   ]
  },
  {
   "cell_type": "code",
   "execution_count": null,
   "metadata": {},
   "outputs": [],
   "source": [
    "#Reasons for stop in SJ\n",
    "# Lots of and reasons\n",
    "test=df_sj_police.dropna(subset=['reason_for_stop'],axis=0)\n",
    "test.reason_for_stop.value_counts().head(20)"
   ]
  },
  {
   "cell_type": "code",
   "execution_count": null,
   "metadata": {},
   "outputs": [],
   "source": [
    "#Reasons for stop in Oakland\n",
    "test=df_oak_police.dropna(subset=['reason_for_stop'],axis=0)\n",
    "test.reason_for_stop.value_counts().head(20)"
   ]
  },
  {
   "cell_type": "code",
   "execution_count": null,
   "metadata": {},
   "outputs": [],
   "source": [
    "test=df_sf_police.dropna(subset=['reason_for_stop'],axis=0)\n",
    "t=test[test.reason_for_stop.str.contains(\"BOLO\")]\n",
    "t.groupby(['arrest_made','subject_race']).count()"
   ]
  },
  {
   "cell_type": "code",
   "execution_count": null,
   "metadata": {},
   "outputs": [],
   "source": [
    "test=df_sj_police.dropna(subset=['reason_for_stop'],axis=0)\n",
    "test[test.reason_for_stop.str.contains(\"\\|\")].search_conducted.value_counts()"
   ]
  },
  {
   "cell_type": "code",
   "execution_count": null,
   "metadata": {},
   "outputs": [],
   "source": [
    "#Since we saw that blacks are searched are much higher rates than whites in SF, what's the reason for the stop?\n",
    "test=df_sf_police.dropna(subset=['reason_for_stop','subject_race'],axis=0)\n",
    "test=test[test.subject_race=='black']\n",
    "test[test.search_conducted].reason_for_stop.value_counts().head(20)"
   ]
  },
  {
   "cell_type": "code",
   "execution_count": null,
   "metadata": {},
   "outputs": [],
   "source": [
    "def get_reasons(df):\n",
    "    \n",
    "    return df['reason_for_stop'].value_counts().head(5)\n",
    "\n",
    "group_reasons=df_sf_police.groupby(\"subject_race\")\n",
    "output=group_reasons.apply(get_reasons)\n",
    "output.unstack().plot(kind='bar',stacked=True,figsize=(9, 6),title='Reasons for Stop by Racial Group')"
   ]
  },
  {
   "cell_type": "code",
   "execution_count": null,
   "metadata": {},
   "outputs": [],
   "source": [
    "\n",
    "grouped=all_df.groupby(['reason_for_stop','subject_race'])['count'].sum()\n",
    "grouped.unstack()"
   ]
  },
  {
   "cell_type": "markdown",
   "metadata": {},
   "source": [
    "## Search Basis\n",
    "- Search Incident to Arrest - police can search body/nearby of person if lawfully arresting a suspected criminal\n",
    "- Vehicle Inventory - An inventory search is the routine inventory of an impounded vehicle. The Supreme Court has ruled that evidence of a crime uncovered during such a search can be used for prosecution. A warrant is not required because the state, in legally impounding the vehicle, bears legal liability for the contents of the vehicle. "
   ]
  },
  {
   "cell_type": "code",
   "execution_count": null,
   "metadata": {},
   "outputs": [],
   "source": [
    "print(df_sf_police.raw_search_vehicle_description.isna().sum(),\"missing values for search description\")\n",
    "test=df_sf_police.dropna(subset=['raw_search_vehicle_description'],axis=0)\n",
    "test.raw_search_vehicle_description.value_counts()"
   ]
  },
  {
   "cell_type": "code",
   "execution_count": null,
   "metadata": {},
   "outputs": [],
   "source": [
    "test=test[test.raw_search_vehicle_description!='No Search']\n",
    "print(test[test.subject_race=='white'].raw_search_vehicle_description.value_counts())\n",
    "test[test.subject_race=='black'].raw_search_vehicle_description.value_counts()"
   ]
  },
  {
   "cell_type": "code",
   "execution_count": null,
   "metadata": {},
   "outputs": [],
   "source": [
    "\n",
    "test['raw_search_vehicle_description'].str.split(',')\n",
    "\n",
    "def remove(row):\n",
    "    output=row.raw_search_vehicle_description.split('|')\n",
    "    if output[0]!='No Search':\n",
    "        return output[0].split(',')[0]\n",
    "    elif output[1]!='No Search':\n",
    "        return output[1].split(',')[0]\n",
    "    else:\n",
    "        return output[2].split(',')[0]"
   ]
  },
  {
   "cell_type": "code",
   "execution_count": null,
   "metadata": {},
   "outputs": [],
   "source": [
    "#Use apply  to remove the \"|No Search\" and the \", Result\"\n",
    "test['reason'] = test.apply(remove, axis = 1)\n",
    "test.reason.value_counts()"
   ]
  },
  {
   "cell_type": "code",
   "execution_count": null,
   "metadata": {},
   "outputs": [],
   "source": [
    "def get_reasons(df):\n",
    "    \n",
    "    return df['reason'].value_counts()\n",
    "\n",
    "group_reasons=test.groupby(\"subject_race\")\n",
    "output=group_reasons.apply(get_reasons)\n",
    "output.unstack().plot(kind='bar',stacked=True,figsize=(9, 6),title='Reasons for Search by Racial Group in San Francisco')"
   ]
  },
  {
   "cell_type": "markdown",
   "metadata": {},
   "source": [
    "Largest discrepancy btw white/black appears to be the probation/parole condition.\n",
    "Could look specifically at search with/without consent rates?"
   ]
  },
  {
   "cell_type": "code",
   "execution_count": null,
   "metadata": {},
   "outputs": [],
   "source": [
    "filtered=test[test.reason.str.contains('Consent')]\n",
    "filtered.groupby(['contraband_found','subject_race']).reason.value_counts()"
   ]
  },
  {
   "cell_type": "code",
   "execution_count": null,
   "metadata": {},
   "outputs": [],
   "source": [
    "filtered=test[test.reason.str.contains('without Consent')]\n",
    "df_pivot=filtered.pivot_table(values='raw_row_number',index='subject_race', columns=['contraband_found'], aggfunc='count').assign(contraband_found_over_total_searches=lambda x: x[1]/x.sum(axis=1))\n",
    "df_pivot.style.set_caption(\"Searches without consent in San Francisco, CA\").set_table_styles([{\n",
    "    'selector': 'caption',\n",
    "    'props': [\n",
    "        ('color', 'black'),\n",
    "        ('font-size', '16px'),\n",
    "        ('width', '450px')\n",
    "    ],\n",
    "}])"
   ]
  },
  {
   "cell_type": "markdown",
   "metadata": {},
   "source": [
    "## Better Plotting for Search and Contraband Ratios"
   ]
  },
  {
   "cell_type": "code",
   "execution_count": null,
   "metadata": {},
   "outputs": [],
   "source": [
    "#There are no missing contraband_found fields if search was conducted in SF\n",
    "print(df_sf_police[df_sf_police.search_conducted==True].contraband_found.isna().sum())\n",
    "\n",
    "#There are no missing contraband_found fields if search was conducted in Oakland\n",
    "print(df_oak_police[df_oak_police.search_conducted==True].contraband_found.isna().sum())\n",
    "\n",
    "#There are no missing contraband_found fields if search was conducted in SJ\n",
    "print(df_sj_police[df_sj_police.search_conducted==True].contraband_found.isna().sum())\n",
    "\n",
    "#Missing search conducted in SF is 0\n",
    "print(df_sf_police.search_conducted.isna().sum())\n",
    "\n",
    "#There are no missing search conducted in Oakland\n",
    "print(df_oak_police.search_conducted.isna().sum())\n",
    "\n",
    "#There are 3568 missing  search conducted in SJ\n",
    "print(df_sj_police.search_conducted.isna().sum())\n",
    "\n",
    "#Investigating why there are 3568 missing search conducted\n",
    "df_sj_police[df_sj_police.search_conducted.isna()].subject_race.value_counts()\n",
    "#There are 3568 rows where search_conducted is null in the San Jose data. Most of the subject_races in this data where \n",
    "#the search_conducted field is null are other (2622), hispanic (474), white (217), black (129) and asian/pacific islander\n",
    "#(118). This leaves 8 rows where race and search_conducted were null. We aren't able to infer whether search was\n",
    "#conducted from other fields so we will leave blank but understand we may be missing some data from searches that were\n",
    "#conducted but not reported.\n",
    "\n",
    "print(df_sj_police.subject_race.isna().sum())\n",
    "df_sj_police[df_sj_police.subject_race.isna()].search_conducted.value_counts()\n",
    "#The San Jose data is also missing subject_race in 5485 rows. Only 15 of these had search_conducted. This is a very\n",
    "#small number of the overall data so we are okay leaving this out of our analysis.\n"
   ]
  },
  {
   "cell_type": "code",
   "execution_count": null,
   "metadata": {},
   "outputs": [],
   "source": [
    "temp=df_sf_police.groupby(['subject_race','search_conducted'])['raw_row_number'].count().unstack()\n",
    "temp=temp.reset_index()\n",
    "temp=temp.assign(searches_over_total_stops=lambda x: x[1]/x.sum(axis=1))\n",
    "temp=temp.assign(total=lambda x: x.sum(axis=1))\n",
    "\n",
    "f, ax = plt.subplots(figsize = (10,8))\n",
    "sns.set_color_codes('pastel')\n",
    "sns.barplot(y = 'total', x = 'subject_race', data = temp,\n",
    "            label = 'Search not conducted', color = 'b', edgecolor = 'w')\n",
    "sns.set_color_codes('muted')\n",
    "sns.barplot(y = True, x = 'subject_race', data = temp,\n",
    "            label = 'Search conducted', color = 'b', edgecolor = 'w')\n",
    "ax.legend(ncol = 1, loc = 'upper left')\n",
    "ax.set_title(\"What percentage of stops result in searches in San Francisco?\")\n",
    "ax.set_xlabel(\"Subject Race\")\n",
    "ax.set_ylabel(\"Count\")\n",
    "sns.despine(left = True, bottom = True)\n",
    "\n",
    "count=0\n",
    "for p in ax.patches:\n",
    "    if count < 5:\n",
    "        ax.text(p.get_x() - 0.01, \n",
    "                p.get_height() * 1.02, \n",
    "               '{0:.2f}%'.format(temp.searches_over_total_stops[count]*100),   \n",
    "                color='black', \n",
    "                rotation='horizontal', \n",
    "                size='large')\n",
    "        count+=1\n",
    "    \n",
    "plt.show()"
   ]
  },
  {
   "cell_type": "code",
   "execution_count": null,
   "metadata": {},
   "outputs": [],
   "source": [
    "temp=df_sj_police.groupby(['subject_race','search_conducted'])['raw_row_number'].count().unstack()\n",
    "temp=temp.reset_index()\n",
    "temp=temp.assign(searches_over_total_stops=lambda x: x[1]/x.sum(axis=1))\n",
    "temp=temp.assign(total=lambda x: x.sum(axis=1))\n",
    "\n",
    "f, ax = plt.subplots(figsize = (10,8))\n",
    "sns.set_color_codes('pastel')\n",
    "sns.barplot(y = 'total', x = 'subject_race', data = temp,\n",
    "            label = 'Search not conducted', color = 'b', edgecolor = 'w')\n",
    "sns.set_color_codes('muted')\n",
    "sns.barplot(y = True, x = 'subject_race', data = temp,\n",
    "            label = 'Search conducted', color = 'b', edgecolor = 'w')\n",
    "ax.legend(ncol = 1, loc = 'upper right')\n",
    "ax.set_title(\"What percentage of stops result in searches in San Jose?\")\n",
    "ax.set_xlabel(\"Subject Race\")\n",
    "ax.set_ylabel(\"Count\")\n",
    "sns.despine(left = True, bottom = True)\n",
    "\n",
    "count=0\n",
    "for p in ax.patches:\n",
    "    if count < 5:\n",
    "        ax.text(p.get_x() - 0.01, \n",
    "                p.get_height() * 1.02, \n",
    "               '{0:.2f}%'.format(temp.searches_over_total_stops[count]*100),   \n",
    "                color='black', \n",
    "                rotation='horizontal', \n",
    "                size='large')\n",
    "        count+=1\n",
    "    \n",
    "plt.show()"
   ]
  },
  {
   "cell_type": "code",
   "execution_count": null,
   "metadata": {},
   "outputs": [],
   "source": [
    "temp=df_oak_police.groupby(['subject_race','search_conducted'])['raw_row_number'].count().unstack()\n",
    "temp=temp.reset_index()\n",
    "temp=temp.assign(searches_over_total_stops=lambda x: x[1]/x.sum(axis=1))\n",
    "temp=temp.assign(total=lambda x: x.sum(axis=1))\n",
    "\n",
    "f, ax = plt.subplots(figsize = (10,8))\n",
    "sns.set_color_codes('pastel')\n",
    "sns.barplot(y = 'total', x = 'subject_race', data = temp,\n",
    "            label = 'Search not conducted', color = 'b', edgecolor = 'w')\n",
    "sns.set_color_codes('muted')\n",
    "sns.barplot(y = True, x = 'subject_race', data = temp,\n",
    "            label = 'Search conducted', color = 'b', edgecolor = 'w')\n",
    "ax.legend(ncol = 1, loc = 'upper right')\n",
    "ax.set_title(\"What percentage of stops result in searches in Oakland?\")\n",
    "ax.set_xlabel(\"Subject Race\")\n",
    "ax.set_ylabel(\"Count\")\n",
    "sns.despine(left = True, bottom = True)\n",
    "\n",
    "count=0\n",
    "for p in ax.patches:\n",
    "    if count < 5:\n",
    "        ax.text(p.get_x() - 0.01, \n",
    "                p.get_height() * 1.02, \n",
    "               '{0:.2f}%'.format(temp.searches_over_total_stops[count]*100),   \n",
    "                color='black', \n",
    "                rotation='horizontal', \n",
    "                size='large')\n",
    "        count+=1\n",
    "    \n",
    "plt.show()"
   ]
  },
  {
   "cell_type": "code",
   "execution_count": null,
   "metadata": {},
   "outputs": [],
   "source": [
    "temp=df_sf_police.groupby(['subject_race','contraband_found'])['raw_row_number'].count().unstack()\n",
    "temp=temp.reset_index()\n",
    "temp=temp.assign(successful_searches=lambda x: x[1]/x.sum(axis=1))\n",
    "temp=temp.assign(total=lambda x: x.sum(axis=1))\n",
    "\n",
    "f, ax = plt.subplots(figsize = (10,8))\n",
    "sns.set_color_codes('pastel')\n",
    "sns.barplot(y = 'total', x = 'subject_race', data = temp,\n",
    "            label = 'Contraband not found', color = 'b', edgecolor = 'w')\n",
    "sns.set_color_codes('muted')\n",
    "sns.barplot(y = True, x = 'subject_race', data = temp,\n",
    "            label = 'Contraband found', color = 'b', edgecolor = 'w')\n",
    "ax.legend(ncol = 1, loc = 'upper right')\n",
    "ax.set_title(\"What percentage of searches find contraband in San Francisco?\")\n",
    "ax.set_xlabel(\"Subject Race\")\n",
    "ax.set_ylabel(\"Count\")\n",
    "sns.despine(left = True, bottom = True)\n",
    "\n",
    "count=0\n",
    "for p in ax.patches:\n",
    "    if count < 5:\n",
    "        ax.text(p.get_x() - 0.01, \n",
    "                p.get_height() * 1.02, \n",
    "               '{0:.2f}%'.format(temp.successful_searches[count]*100),  \n",
    "                color='black', \n",
    "                rotation='horizontal', \n",
    "                size='large')\n",
    "        count+=1\n",
    "    \n",
    "plt.show()"
   ]
  },
  {
   "cell_type": "code",
   "execution_count": null,
   "metadata": {},
   "outputs": [],
   "source": [
    "temp=df_oak_police.groupby(['subject_race','contraband_found'])['raw_row_number'].count().unstack()\n",
    "temp=temp.reset_index()\n",
    "temp=temp.assign(successful_searches=lambda x: x[1]/x.sum(axis=1))\n",
    "temp=temp.assign(total=lambda x: x.sum(axis=1))\n",
    "\n",
    "f, ax = plt.subplots(figsize = (10,8))\n",
    "sns.set_color_codes('pastel')\n",
    "sns.barplot(y = 'total', x = 'subject_race', data = temp,\n",
    "            label = 'Contraband not found', color = 'b', edgecolor = 'w')\n",
    "sns.set_color_codes('muted')\n",
    "sns.barplot(y = True, x = 'subject_race', data = temp,\n",
    "            label = 'Contraband found', color = 'b', edgecolor = 'w')\n",
    "ax.legend(ncol = 1, loc = 'upper right')\n",
    "ax.set_title(\"What percentage of searches find contraband in Oakland?\")\n",
    "ax.set_xlabel(\"Subject Race\")\n",
    "ax.set_ylabel(\"Count\")\n",
    "sns.despine(left = True, bottom = True)\n",
    "\n",
    "count=0\n",
    "for p in ax.patches:\n",
    "    if count < 5:\n",
    "        ax.text(p.get_x() - 0.01, \n",
    "                p.get_height() * 1.02, \n",
    "               '{0:.2f}%'.format(temp.successful_searches[count]*100),  \n",
    "                color='black', \n",
    "                rotation='horizontal', \n",
    "                size='large')\n",
    "        count+=1\n",
    "    \n",
    "plt.show()"
   ]
  },
  {
   "cell_type": "code",
   "execution_count": null,
   "metadata": {},
   "outputs": [],
   "source": [
    "temp=df_sj_police.groupby(['subject_race','contraband_found'])['raw_row_number'].count().unstack()\n",
    "temp=temp.reset_index()\n",
    "temp=temp.assign(successful_searches=lambda x: x[1]/x.sum(axis=1))\n",
    "temp=temp.assign(total=lambda x: x.sum(axis=1))\n",
    "\n",
    "f, ax = plt.subplots(figsize = (10,8))\n",
    "sns.set_color_codes('pastel')\n",
    "sns.barplot(y = 'total', x = 'subject_race', data = temp,\n",
    "            label = 'Contraband not found', color = 'b', edgecolor = 'w')\n",
    "sns.set_color_codes('muted')\n",
    "sns.barplot(y = True, x = 'subject_race', data = temp,\n",
    "            label = 'Contraband found', color = 'b', edgecolor = 'w')\n",
    "ax.legend(ncol = 1, loc = 'upper right')\n",
    "ax.set_title(\"What percentage of searches find contraband in San Jose?\")\n",
    "ax.set_xlabel(\"Subject Race\")\n",
    "ax.set_ylabel(\"Count\")\n",
    "sns.despine(left = True, bottom = True)\n",
    "\n",
    "count=0\n",
    "for p in ax.patches:\n",
    "    if count < 5:\n",
    "        ax.text(p.get_x() - 0.01, \n",
    "                p.get_height() * 1.02, \n",
    "               '{0:.2f}%'.format(temp.successful_searches[count]*100),  \n",
    "                color='black', \n",
    "                rotation='horizontal', \n",
    "                size='large')\n",
    "        count+=1\n",
    "    \n",
    "plt.show()"
   ]
  },
  {
   "cell_type": "markdown",
   "metadata": {},
   "source": [
    "## Subject Gender"
   ]
  },
  {
   "cell_type": "code",
   "execution_count": null,
   "metadata": {},
   "outputs": [],
   "source": [
    "#Searches by gender are way less, somewhat expected that police dont suspect women as much\n",
    "temp=df_sf_police.groupby(['subject_sex','search_conducted'])['raw_row_number'].count().unstack()\n",
    "temp=temp.reset_index()\n",
    "temp=temp.assign(searches_over_total_stops=lambda x: x[1]/x.sum(axis=1))\n",
    "temp=temp.assign(total=lambda x: x.sum(axis=1))\n",
    "\n",
    "f, ax = plt.subplots(figsize = (10,8))\n",
    "sns.set_color_codes('pastel')\n",
    "sns.barplot(y = 'total', x = 'subject_sex', data = temp,\n",
    "            label = 'Search not conducted', color = 'b', edgecolor = 'w')\n",
    "sns.set_color_codes('muted')\n",
    "sns.barplot(y = True, x = 'subject_sex', data = temp,\n",
    "            label = 'Search conducted', color = 'b', edgecolor = 'w')\n",
    "ax.legend(ncol = 1, loc = 'upper left')\n",
    "ax.set_title(\"What percentage of stops result in searches in San Francisco?\")\n",
    "ax.set_xlabel(\"Subject Race\")\n",
    "ax.set_ylabel(\"Count\")\n",
    "sns.despine(left = True, bottom = True)\n",
    "\n",
    "count=0\n",
    "for p in ax.patches:\n",
    "    if count < 2:\n",
    "        ax.text(p.get_x() - 0.01, \n",
    "                p.get_height() * 1.02, \n",
    "               '{0:.2f}%'.format(temp.searches_over_total_stops[count]*100),   \n",
    "                color='black', \n",
    "                rotation='horizontal', \n",
    "                size='large')\n",
    "        count+=1\n",
    "    \n",
    "plt.show()"
   ]
  },
  {
   "cell_type": "code",
   "execution_count": null,
   "metadata": {},
   "outputs": [],
   "source": [
    "#Racial differences in search rates still exist by gender\n",
    "temp=df_sf_police[df_sf_police.subject_sex=='female'].groupby(['subject_race','search_conducted'])['raw_row_number'].count().unstack()\n",
    "temp=temp.reset_index()\n",
    "temp=temp.assign(searches_over_total_stops=lambda x: x[1]/x.sum(axis=1))\n",
    "temp=temp.assign(total=lambda x: x.sum(axis=1))\n",
    "\n",
    "f, ax = plt.subplots(figsize = (10,8))\n",
    "sns.set_color_codes('pastel')\n",
    "sns.barplot(y = 'total', x = 'subject_race', data = temp,\n",
    "            label = 'Search not conducted', color = 'b', edgecolor = 'w')\n",
    "sns.set_color_codes('muted')\n",
    "sns.barplot(y = True, x = 'subject_race', data = temp,\n",
    "            label = 'Search conducted', color = 'b', edgecolor = 'w')\n",
    "ax.legend(ncol = 1, loc = 'upper left')\n",
    "ax.set_title(\"What percentage of stops of females result in searches in San Francisco?\")\n",
    "ax.set_xlabel(\"Subject Race\")\n",
    "ax.set_ylabel(\"Count\")\n",
    "sns.despine(left = True, bottom = True)\n",
    "\n",
    "count=0\n",
    "for p in ax.patches:\n",
    "    if count < 5:\n",
    "        ax.text(p.get_x() - 0.01, \n",
    "                p.get_height() * 1.02, \n",
    "               '{0:.2f}%'.format(temp.searches_over_total_stops[count]*100),   \n",
    "                color='black', \n",
    "                rotation='horizontal', \n",
    "                size='large')\n",
    "        count+=1\n",
    "    \n",
    "plt.show()"
   ]
  },
  {
   "cell_type": "code",
   "execution_count": null,
   "metadata": {},
   "outputs": [],
   "source": [
    "#Racial differences in search rates still exist by gender\n",
    "temp=df_sf_police[df_sf_police.subject_sex=='male'].groupby(['subject_race','search_conducted'])['raw_row_number'].count().unstack()\n",
    "temp=temp.reset_index()\n",
    "temp=temp.assign(searches_over_total_stops=lambda x: x[1]/x.sum(axis=1))\n",
    "temp=temp.assign(total=lambda x: x.sum(axis=1))\n",
    "\n",
    "f, ax = plt.subplots(figsize = (10,8))\n",
    "sns.set_color_codes('pastel')\n",
    "sns.barplot(y = 'total', x = 'subject_race', data = temp,\n",
    "            label = 'Search not conducted', color = 'b', edgecolor = 'w')\n",
    "sns.set_color_codes('muted')\n",
    "sns.barplot(y = True, x = 'subject_race', data = temp,\n",
    "            label = 'Search conducted', color = 'b', edgecolor = 'w')\n",
    "ax.legend(ncol = 1, loc = 'upper left')\n",
    "ax.set_title(\"What percentage of stops of males result in searches in San Francisco?\")\n",
    "ax.set_xlabel(\"Subject Race\")\n",
    "ax.set_ylabel(\"Count\")\n",
    "sns.despine(left = True, bottom = True)\n",
    "\n",
    "count=0\n",
    "for p in ax.patches:\n",
    "    if count < 5:\n",
    "        ax.text(p.get_x() - 0.01, \n",
    "                p.get_height() * 1.02, \n",
    "               '{0:.2f}%'.format(temp.searches_over_total_stops[count]*100),   \n",
    "                color='black', \n",
    "                rotation='horizontal', \n",
    "                size='large')\n",
    "        count+=1\n",
    "    \n",
    "plt.show()"
   ]
  },
  {
   "cell_type": "code",
   "execution_count": null,
   "metadata": {},
   "outputs": [],
   "source": [
    "#Racial differences in contraband rates with women\n",
    "#Police appear to have higher bias against searching white and Asian women (hence high success rate)\n",
    "temp=df_sf_police[df_sf_police.subject_sex=='female'].groupby(['subject_race','contraband_found'])['raw_row_number'].count().unstack()\n",
    "temp=temp.reset_index()\n",
    "temp=temp.assign(successful_searches=lambda x: x[1]/x.sum(axis=1))\n",
    "temp=temp.assign(total=lambda x: x.sum(axis=1))\n",
    "\n",
    "f, ax = plt.subplots(figsize = (10,8))\n",
    "sns.set_color_codes('pastel')\n",
    "sns.barplot(y = 'total', x = 'subject_race', data = temp,\n",
    "            label = 'Contraband not found', color = 'b', edgecolor = 'w')\n",
    "sns.set_color_codes('muted')\n",
    "sns.barplot(y = True, x = 'subject_race', data = temp,\n",
    "            label = 'Contraband found', color = 'b', edgecolor = 'w')\n",
    "ax.legend(ncol = 1, loc = 'upper right')\n",
    "ax.set_title(\"What percentages of females searched have contraband in San Francisco?\")\n",
    "ax.set_xlabel(\"Subject Race\")\n",
    "ax.set_ylabel(\"Count\")\n",
    "sns.despine(left = True, bottom = True)\n",
    "\n",
    "count=0\n",
    "for p in ax.patches:\n",
    "    if count < 5:\n",
    "        ax.text(p.get_x() - 0.01, \n",
    "                p.get_height() * 1.02, \n",
    "               '{0:.2f}%'.format(temp.successful_searches[count]*100),   \n",
    "                color='black', \n",
    "                rotation='horizontal', \n",
    "                size='large')\n",
    "        count+=1\n",
    "    \n",
    "plt.show()"
   ]
  },
  {
   "cell_type": "code",
   "execution_count": null,
   "metadata": {},
   "outputs": [],
   "source": [
    "#Racial differences in contraband rates with women\n",
    "#Police appear to have higher bias against searching white and Asian women (hence high success rate)\n",
    "temp=df_sf_police[df_sf_police.subject_sex=='male'].groupby(['subject_race','contraband_found'])['raw_row_number'].count().unstack()\n",
    "temp=temp.reset_index()\n",
    "temp=temp.assign(successful_searches=lambda x: x[1]/x.sum(axis=1))\n",
    "temp=temp.assign(total=lambda x: x.sum(axis=1))\n",
    "\n",
    "f, ax = plt.subplots(figsize = (10,8))\n",
    "sns.set_color_codes('pastel')\n",
    "sns.barplot(y = 'total', x = 'subject_race', data = temp,\n",
    "            label = 'Contraband not found', color = 'b', edgecolor = 'w')\n",
    "sns.set_color_codes('muted')\n",
    "sns.barplot(y = True, x = 'subject_race', data = temp,\n",
    "            label = 'Contraband found', color = 'b', edgecolor = 'w')\n",
    "ax.legend(ncol = 1, loc = 'upper right')\n",
    "ax.set_title(\"What percentages of males searched have contraband in San Francisco?\")\n",
    "ax.set_xlabel(\"Subject Race\")\n",
    "ax.set_ylabel(\"Count\")\n",
    "sns.despine(left = True, bottom = True)\n",
    "\n",
    "count=0\n",
    "for p in ax.patches:\n",
    "    if count < 5:\n",
    "        ax.text(p.get_x() - 0.01, \n",
    "                p.get_height() * 1.02, \n",
    "               '{0:.2f}%'.format(temp.successful_searches[count]*100),   \n",
    "                color='black', \n",
    "                rotation='horizontal', \n",
    "                size='large')\n",
    "        count+=1\n",
    "    \n",
    "plt.show()"
   ]
  }
 ],
 "metadata": {
  "kernelspec": {
   "display_name": "Python 3",
   "language": "python",
   "name": "python3"
  },
  "language_info": {
   "codemirror_mode": {
    "name": "ipython",
    "version": 3
   },
   "file_extension": ".py",
   "mimetype": "text/x-python",
   "name": "python",
   "nbconvert_exporter": "python",
   "pygments_lexer": "ipython3",
   "version": "3.8.3"
  }
 },
 "nbformat": 4,
 "nbformat_minor": 4
}
